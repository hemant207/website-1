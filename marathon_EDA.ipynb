{
  "nbformat": 4,
  "nbformat_minor": 0,
  "metadata": {
    "colab": {
      "name": "Untitled5.ipynb",
      "provenance": [],
      "collapsed_sections": [],
      "authorship_tag": "ABX9TyNyZRnDo5fVz6eGvnMKMpSt",
      "include_colab_link": true
    },
    "kernelspec": {
      "name": "python3",
      "display_name": "Python 3"
    }
  },
  "cells": [
    {
      "cell_type": "markdown",
      "metadata": {
        "id": "view-in-github",
        "colab_type": "text"
      },
      "source": [
        "<a href=\"https://colab.research.google.com/github/hemant207/machine-learning-project/blob/master/marathon_EDA.ipynb\" target=\"_parent\"><img src=\"https://colab.research.google.com/assets/colab-badge.svg\" alt=\"Open In Colab\"/></a>"
      ]
    },
    {
      "cell_type": "code",
      "metadata": {
        "id": "FlWttBcW6_74"
      },
      "source": [
        "import numpy as np\r\n",
        "import pandas as pd\r\n"
      ],
      "execution_count": 6,
      "outputs": []
    },
    {
      "cell_type": "markdown",
      "metadata": {
        "id": "FYK-6N1FaMoV"
      },
      "source": [
        "first we import libraries adn then we import \"world merathon dataset\""
      ]
    },
    {
      "cell_type": "code",
      "metadata": {
        "id": "YIYXc56i7SAL"
      },
      "source": [
        "data = pd.read_csv(\"w.csv\",encoding= 'unicode_escape')"
      ],
      "execution_count": 9,
      "outputs": []
    },
    {
      "cell_type": "code",
      "metadata": {
        "colab": {
          "base_uri": "https://localhost:8080/"
        },
        "id": "lDI4Xb9r9V7y",
        "outputId": "be78f358-86fc-4ef2-bab5-eacaed999430"
      },
      "source": [
        "data.shape"
      ],
      "execution_count": 12,
      "outputs": [
        {
          "output_type": "execute_result",
          "data": {
            "text/plain": [
              "(536, 6)"
            ]
          },
          "metadata": {
            "tags": []
          },
          "execution_count": 12
        }
      ]
    },
    {
      "cell_type": "code",
      "metadata": {
        "colab": {
          "base_uri": "https://localhost:8080/",
          "height": 284
        },
        "id": "UPVZGsDe9qAd",
        "outputId": "ec96de61-3530-4f60-9831-8a326e109bf1"
      },
      "source": [
        "data.describe()"
      ],
      "execution_count": 23,
      "outputs": [
        {
          "output_type": "execute_result",
          "data": {
            "text/html": [
              "<div>\n",
              "<style scoped>\n",
              "    .dataframe tbody tr th:only-of-type {\n",
              "        vertical-align: middle;\n",
              "    }\n",
              "\n",
              "    .dataframe tbody tr th {\n",
              "        vertical-align: top;\n",
              "    }\n",
              "\n",
              "    .dataframe thead th {\n",
              "        text-align: right;\n",
              "    }\n",
              "</style>\n",
              "<table border=\"1\" class=\"dataframe\">\n",
              "  <thead>\n",
              "    <tr style=\"text-align: right;\">\n",
              "      <th></th>\n",
              "      <th>year</th>\n",
              "    </tr>\n",
              "  </thead>\n",
              "  <tbody>\n",
              "    <tr>\n",
              "      <th>count</th>\n",
              "      <td>536.000000</td>\n",
              "    </tr>\n",
              "    <tr>\n",
              "      <th>mean</th>\n",
              "      <td>1987.919776</td>\n",
              "    </tr>\n",
              "    <tr>\n",
              "      <th>std</th>\n",
              "      <td>26.104662</td>\n",
              "    </tr>\n",
              "    <tr>\n",
              "      <th>min</th>\n",
              "      <td>1897.000000</td>\n",
              "    </tr>\n",
              "    <tr>\n",
              "      <th>25%</th>\n",
              "      <td>1980.000000</td>\n",
              "    </tr>\n",
              "    <tr>\n",
              "      <th>50%</th>\n",
              "      <td>1993.000000</td>\n",
              "    </tr>\n",
              "    <tr>\n",
              "      <th>75%</th>\n",
              "      <td>2007.000000</td>\n",
              "    </tr>\n",
              "    <tr>\n",
              "      <th>max</th>\n",
              "      <td>2018.000000</td>\n",
              "    </tr>\n",
              "  </tbody>\n",
              "</table>\n",
              "</div>"
            ],
            "text/plain": [
              "              year\n",
              "count   536.000000\n",
              "mean   1987.919776\n",
              "std      26.104662\n",
              "min    1897.000000\n",
              "25%    1980.000000\n",
              "50%    1993.000000\n",
              "75%    2007.000000\n",
              "max    2018.000000"
            ]
          },
          "metadata": {
            "tags": []
          },
          "execution_count": 23
        }
      ]
    },
    {
      "cell_type": "code",
      "metadata": {
        "colab": {
          "base_uri": "https://localhost:8080/"
        },
        "id": "6Uh2NsKi9qFZ",
        "outputId": "34dad1dd-3967-4ef6-9a13-90a50074917c"
      },
      "source": [
        "data.info()"
      ],
      "execution_count": 16,
      "outputs": [
        {
          "output_type": "stream",
          "text": [
            "<class 'pandas.core.frame.DataFrame'>\n",
            "RangeIndex: 536 entries, 0 to 535\n",
            "Data columns (total 6 columns):\n",
            " #   Column    Non-Null Count  Dtype \n",
            "---  ------    --------------  ----- \n",
            " 0   year      536 non-null    int64 \n",
            " 1   winner    536 non-null    object\n",
            " 2   gender    536 non-null    object\n",
            " 3   country   536 non-null    object\n",
            " 4   time      536 non-null    object\n",
            " 5   marathon  536 non-null    object\n",
            "dtypes: int64(1), object(5)\n",
            "memory usage: 25.2+ KB\n"
          ],
          "name": "stdout"
        }
      ]
    },
    {
      "cell_type": "markdown",
      "metadata": {
        "id": "O4txgFVZalUm"
      },
      "source": [
        "as we can see above most of atribute of the dataset are objects which means categorical"
      ]
    },
    {
      "cell_type": "markdown",
      "metadata": {
        "id": "clEE13kwaz1W"
      },
      "source": [
        "now we perform some data visulization technique on the data set to find more information.for that we import vizulization libraries like **seaborn** and **matplotlib.pyplot**"
      ]
    },
    {
      "cell_type": "code",
      "metadata": {
        "id": "EiUBWOfK9qOi"
      },
      "source": [
        "import seaborn as sns\r\n",
        "import matplotlib.pyplot as plt\r\n"
      ],
      "execution_count": 157,
      "outputs": []
    },
    {
      "cell_type": "markdown",
      "metadata": {
        "id": "QpRbZSDRbL8g"
      },
      "source": [
        "we check ration of male and female in the winners"
      ]
    },
    {
      "cell_type": "code",
      "metadata": {
        "colab": {
          "base_uri": "https://localhost:8080/"
        },
        "id": "CF5YKZp0XUQs",
        "outputId": "14d68cb4-d6f6-4591-bf8e-d6e11cb6643e"
      },
      "source": [
        "data.gender.value_counts()"
      ],
      "execution_count": 146,
      "outputs": [
        {
          "output_type": "execute_result",
          "data": {
            "text/plain": [
              "Male      303\n",
              "Female    233\n",
              "Name: gender, dtype: int64"
            ]
          },
          "metadata": {
            "tags": []
          },
          "execution_count": 146
        }
      ]
    },
    {
      "cell_type": "code",
      "metadata": {
        "colab": {
          "base_uri": "https://localhost:8080/",
          "height": 350
        },
        "id": "rXj2VY-bXXKC",
        "outputId": "e626439d-725f-4abb-e2d8-b870b1bfd01a"
      },
      "source": [
        "sns.countplot(data.gender)"
      ],
      "execution_count": 167,
      "outputs": [
        {
          "output_type": "stream",
          "text": [
            "/usr/local/lib/python3.6/dist-packages/seaborn/_decorators.py:43: FutureWarning: Pass the following variable as a keyword arg: x. From version 0.12, the only valid positional argument will be `data`, and passing other arguments without an explicit keyword will result in an error or misinterpretation.\n",
            "  FutureWarning\n"
          ],
          "name": "stderr"
        },
        {
          "output_type": "execute_result",
          "data": {
            "text/plain": [
              "<matplotlib.axes._subplots.AxesSubplot at 0x7f097346bc50>"
            ]
          },
          "metadata": {
            "tags": []
          },
          "execution_count": 167
        },
        {
          "output_type": "display_data",
          "data": {
            "image/png": "[encoded data removed]",
            "text/plain": [
              "<Figure size 432x288 with 1 Axes>"
            ]
          },
          "metadata": {
            "tags": [],
            "needs_background": "light"
          }
        }
      ]
    },
    {
      "cell_type": "markdown",
      "metadata": {
        "id": "ljAdg0E-bdon"
      },
      "source": [
        "now we check which won the most marathons and we use bar plot to visulize it."
      ]
    },
    {
      "cell_type": "code",
      "metadata": {
        "colab": {
          "base_uri": "https://localhost:8080/",
          "height": 1000
        },
        "id": "x9AL2DkZXp-_",
        "outputId": "8f0618b1-f277-4319-f748-806d16491b5c"
      },
      "source": [
        "plt.figure(figsize=(20,5))\r\n",
        "sns.countplot(data.country).set_xticklabels(data.country,rotation=90)"
      ],
      "execution_count": 161,
      "outputs": [
        {
          "output_type": "stream",
          "text": [
            "/usr/local/lib/python3.6/dist-packages/seaborn/_decorators.py:43: FutureWarning: Pass the following variable as a keyword arg: x. From version 0.12, the only valid positional argument will be `data`, and passing other arguments without an explicit keyword will result in an error or misinterpretation.\n",
            "  FutureWarning\n"
          ],
          "name": "stderr"
        },
        {
          "output_type": "execute_result",
          "data": {
            "text/plain": [
              "[Text(0, 0, 'Kenya'),\n",
              " Text(0, 0, 'Ethiopia'),\n",
              " Text(0, 0, 'Kenya'),\n",
              " Text(0, 0, 'Kenya'),\n",
              " Text(0, 0, 'Ethiopia'),\n",
              " Text(0, 0, 'Kenya'),\n",
              " Text(0, 0, 'Ethiopia'),\n",
              " Text(0, 0, 'Ethiopia'),\n",
              " Text(0, 0, 'Kenya'),\n",
              " Text(0, 0, 'Ethiopia'),\n",
              " Text(0, 0, 'Kenya'),\n",
              " Text(0, 0, 'Ethiopia'),\n",
              " Text(0, 0, 'Kenya'),\n",
              " Text(0, 0, 'Ethiopia'),\n",
              " Text(0, 0, 'Ethiopia'),\n",
              " Text(0, 0, 'Japan'),\n",
              " Text(0, 0, 'Japan'),\n",
              " Text(0, 0, 'Russia'),\n",
              " Text(0, 0, 'Kenya'),\n",
              " Text(0, 0, 'Japan'),\n",
              " Text(0, 0, 'Switzerland'),\n",
              " Text(0, 0, 'Germany'),\n",
              " Text(0, 0, 'Kenya'),\n",
              " Text(0, 0, 'Japan'),\n",
              " Text(0, 0, 'Kenya'),\n",
              " Text(0, 0, 'Kenya'),\n",
              " Text(0, 0, 'Ethiopia'),\n",
              " Text(0, 0, 'Ethiopia'),\n",
              " Text(0, 0, 'Kenya'),\n",
              " Text(0, 0, 'Kenya'),\n",
              " Text(0, 0, 'Kenya'),\n",
              " Text(0, 0, 'Ethiopia'),\n",
              " Text(0, 0, 'Kenya'),\n",
              " Text(0, 0, 'Kenya'),\n",
              " Text(0, 0, 'Kenya'),\n",
              " Text(0, 0, 'Ethiopia'),\n",
              " Text(0, 0, 'Kenya')]"
            ]
          },
          "metadata": {
            "tags": []
          },
          "execution_count": 161
        },
        {
          "output_type": "display_data",
          "data": {
            "image/png": "[encoded data removed]",
            "text/plain": [
              "<Figure size 1440x360 with 1 Axes>"
            ]
          },
          "metadata": {
            "tags": [],
            "needs_background": "light"
          }
        }
      ]
    },
    {
      "cell_type": "code",
      "metadata": {
        "colab": {
          "base_uri": "https://localhost:8080/"
        },
        "id": "2kvpDRVr9qLC",
        "outputId": "a12027dc-5552-4df5-be2c-e79c3838de8f"
      },
      "source": [
        "data[\"country\"].value_counts()"
      ],
      "execution_count": 174,
      "outputs": [
        {
          "output_type": "execute_result",
          "data": {
            "text/plain": [
              "Kenya             136\n",
              "United States     104\n",
              "Ethiopia           51\n",
              "Germany            36\n",
              "United Kingdom     35\n",
              "Japan              22\n",
              "Norway             20\n",
              "Canada             17\n",
              "Portugal           11\n",
              "Finland            10\n",
              "Mexico             10\n",
              "Russia              8\n",
              "Poland              8\n",
              "Brazil              7\n",
              "Italy               6\n",
              "Morocco             5\n",
              "New Zealand         5\n",
              "South Africa        5\n",
              "Belgium             5\n",
              "Tanzania            4\n",
              "South Korea         3\n",
              "Ireland             3\n",
              "Australia           3\n",
              "Colombia            2\n",
              "Romania             2\n",
              "Greece              2\n",
              "Denmark             2\n",
              "Spain               2\n",
              "Latvia              2\n",
              "Sweden              2\n",
              "Switzerland         2\n",
              "Eritrea             1\n",
              "Guatemala           1\n",
              "Soviet Union        1\n",
              "Yugoslavia          1\n",
              "Hungary             1\n",
              "China               1\n",
              "Name: country, dtype: int64"
            ]
          },
          "metadata": {
            "tags": []
          },
          "execution_count": 174
        }
      ]
    },
    {
      "cell_type": "code",
      "metadata": {
        "colab": {
          "base_uri": "https://localhost:8080/",
          "height": 504
        },
        "id": "ocDkKs5sLyVj",
        "outputId": "a532edec-f23d-4bcd-e083-067203d271ae"
      },
      "source": [
        "sns.barplot(x=a.index,y=a).set_xticklabels(a.index,rotation=90)"
      ],
      "execution_count": 152,
      "outputs": [
        {
          "output_type": "execute_result",
          "data": {
            "text/plain": [
              "[Text(0, 0, 'Kenya'),\n",
              " Text(0, 0, 'United States'),\n",
              " Text(0, 0, 'Ethiopia'),\n",
              " Text(0, 0, 'Germany'),\n",
              " Text(0, 0, 'United Kingdom'),\n",
              " Text(0, 0, 'Japan'),\n",
              " Text(0, 0, 'Norway'),\n",
              " Text(0, 0, 'Canada'),\n",
              " Text(0, 0, 'Portugal'),\n",
              " Text(0, 0, 'Finland')]"
            ]
          },
          "metadata": {
            "tags": []
          },
          "execution_count": 152
        },
        {
          "output_type": "display_data",
          "data": {
            "image/png": "[encoded data removed]",
            "text/plain": [
              "<Figure size 432x288 with 1 Axes>"
            ]
          },
          "metadata": {
            "tags": [],
            "needs_background": "light"
          }
        }
      ]
    },
    {
      "cell_type": "markdown",
      "metadata": {
        "id": "O9-RH5nAcAqu"
      },
      "source": [
        "now we will find who win the most time of marathon and plot this"
      ]
    },
    {
      "cell_type": "code",
      "metadata": {
        "id": "97oi7a7r9qR5"
      },
      "source": [
        "winners  = data.winner.value_counts()"
      ],
      "execution_count": 82,
      "outputs": []
    },
    {
      "cell_type": "code",
      "metadata": {
        "id": "e2cMbAk_OhuU"
      },
      "source": [
        "top_winner= winners[winners >= 5]"
      ],
      "execution_count": 84,
      "outputs": []
    },
    {
      "cell_type": "code",
      "metadata": {
        "colab": {
          "base_uri": "https://localhost:8080/"
        },
        "id": "rVBX8qj8LyXF",
        "outputId": "584278a5-bc6c-4934-afdd-36fcff2f7f16"
      },
      "source": [
        "top_winner.shape"
      ],
      "execution_count": 89,
      "outputs": [
        {
          "output_type": "execute_result",
          "data": {
            "text/plain": [
              "(14,)"
            ]
          },
          "metadata": {
            "tags": []
          },
          "execution_count": 89
        }
      ]
    },
    {
      "cell_type": "code",
      "metadata": {
        "colab": {
          "base_uri": "https://localhost:8080/",
          "height": 586
        },
        "id": "OclJxCZL9qVf",
        "outputId": "91f0a371-aba1-4581-8d64-38523d417f8e"
      },
      "source": [
        "sns.barplot(x=top_winner.index,y=top_winner).set_xticklabels(top_winner.index,rotation=90)"
      ],
      "execution_count": 96,
      "outputs": [
        {
          "output_type": "execute_result",
          "data": {
            "text/plain": [
              "[Text(0, 0, 'Grete Waitz'),\n",
              " Text(0, 0, 'Ingrid Kristiansen'),\n",
              " Text(0, 0, 'Bill Rodgers'),\n",
              " Text(0, 0, 'Paula Radcliffe'),\n",
              " Text(0, 0, 'Clarence DeMar'),\n",
              " Text(0, 0, 'Uta Pippig'),\n",
              " Text(0, 0, 'Catherine Ndereba'),\n",
              " Text(0, 0, 'Mary Keitany'),\n",
              " Text(0, 0, 'Rosa Mota'),\n",
              " Text(0, 0, 'Eliud Kipchoge'),\n",
              " Text(0, 0, 'Wilson Kipsang'),\n",
              " Text(0, 0, 'Joyce Chepchumba'),\n",
              " Text(0, 0, 'Khalid Khannouchi'),\n",
              " Text(0, 0, 'Martin Lel')]"
            ]
          },
          "metadata": {
            "tags": []
          },
          "execution_count": 96
        },
        {
          "output_type": "display_data",
          "data": {
            "image/png": "[encoded data removed]",
            "text/plain": [
              "<Figure size 432x288 with 1 Axes>"
            ]
          },
          "metadata": {
            "tags": [],
            "needs_background": "light"
          }
        }
      ]
    },
    {
      "cell_type": "markdown",
      "metadata": {
        "id": "o4OjW7PhcO7B"
      },
      "source": [
        "now we find the who completed marathon fastest and chek that which country has fastest winners"
      ]
    },
    {
      "cell_type": "code",
      "metadata": {
        "colab": {
          "base_uri": "https://localhost:8080/",
          "height": 935
        },
        "id": "9t1GYgsRSpBD",
        "outputId": "5c7a2ecd-8d88-48eb-e71d-547caeeafa01"
      },
      "source": [
        "sort_time = data.sort_values(by=\"time\").head(30)"
      ],
      "execution_count": 131,
      "outputs": [
        {
          "output_type": "execute_result",
          "data": {
            "text/html": [
              "<div>\n",
              "<style scoped>\n",
              "    .dataframe tbody tr th:only-of-type {\n",
              "        vertical-align: middle;\n",
              "    }\n",
              "\n",
              "    .dataframe tbody tr th {\n",
              "        vertical-align: top;\n",
              "    }\n",
              "\n",
              "    .dataframe thead th {\n",
              "        text-align: right;\n",
              "    }\n",
              "</style>\n",
              "<table border=\"1\" class=\"dataframe\">\n",
              "  <thead>\n",
              "    <tr style=\"text-align: right;\">\n",
              "      <th></th>\n",
              "      <th>year</th>\n",
              "      <th>winner</th>\n",
              "      <th>gender</th>\n",
              "      <th>country</th>\n",
              "      <th>time</th>\n",
              "      <th>marathon</th>\n",
              "    </tr>\n",
              "  </thead>\n",
              "  <tbody>\n",
              "    <tr>\n",
              "      <th>30</th>\n",
              "      <td>2014</td>\n",
              "      <td>Dennis Kimetto</td>\n",
              "      <td>Male</td>\n",
              "      <td>Kenya</td>\n",
              "      <td>02:02:57</td>\n",
              "      <td>Berlin</td>\n",
              "    </tr>\n",
              "    <tr>\n",
              "      <th>127</th>\n",
              "      <td>2011</td>\n",
              "      <td>Geoffrey Mutai</td>\n",
              "      <td>Male</td>\n",
              "      <td>Kenya</td>\n",
              "      <td>02:03:02</td>\n",
              "      <td>Boston</td>\n",
              "    </tr>\n",
              "    <tr>\n",
              "      <th>26</th>\n",
              "      <td>2016</td>\n",
              "      <td>Kenenisa Bekele</td>\n",
              "      <td>Male</td>\n",
              "      <td>Ethiopia</td>\n",
              "      <td>02:03:03</td>\n",
              "      <td>Berlin</td>\n",
              "    </tr>\n",
              "    <tr>\n",
              "      <th>382</th>\n",
              "      <td>2016</td>\n",
              "      <td>Eliud Kipchoge</td>\n",
              "      <td>Male</td>\n",
              "      <td>Kenya</td>\n",
              "      <td>02:03:05</td>\n",
              "      <td>London</td>\n",
              "    </tr>\n",
              "    <tr>\n",
              "      <th>32</th>\n",
              "      <td>2013</td>\n",
              "      <td>Wilson Kipsang</td>\n",
              "      <td>Male</td>\n",
              "      <td>Kenya</td>\n",
              "      <td>02:03:23</td>\n",
              "      <td>Berlin</td>\n",
              "    </tr>\n",
              "    <tr>\n",
              "      <th>24</th>\n",
              "      <td>2017</td>\n",
              "      <td>Eliud Kipchoge</td>\n",
              "      <td>Male</td>\n",
              "      <td>Kenya</td>\n",
              "      <td>02:03:32</td>\n",
              "      <td>Berlin</td>\n",
              "    </tr>\n",
              "    <tr>\n",
              "      <th>36</th>\n",
              "      <td>2011</td>\n",
              "      <td>Patrick Musyoki</td>\n",
              "      <td>Male</td>\n",
              "      <td>Kenya</td>\n",
              "      <td>02:03:38</td>\n",
              "      <td>Berlin</td>\n",
              "    </tr>\n",
              "    <tr>\n",
              "      <th>463</th>\n",
              "      <td>2013</td>\n",
              "      <td>Dennis Kimetto</td>\n",
              "      <td>Male</td>\n",
              "      <td>Kenya</td>\n",
              "      <td>02:03:45</td>\n",
              "      <td>Chicago</td>\n",
              "    </tr>\n",
              "    <tr>\n",
              "      <th>2</th>\n",
              "      <td>2017</td>\n",
              "      <td>Wilson Kipsang</td>\n",
              "      <td>Male</td>\n",
              "      <td>Kenya</td>\n",
              "      <td>02:03:58</td>\n",
              "      <td>Tokyo</td>\n",
              "    </tr>\n",
              "    <tr>\n",
              "      <th>42</th>\n",
              "      <td>2008</td>\n",
              "      <td>Haile Gebrselassie</td>\n",
              "      <td>Male</td>\n",
              "      <td>Ethiopia</td>\n",
              "      <td>02:03:59</td>\n",
              "      <td>Berlin</td>\n",
              "    </tr>\n",
              "    <tr>\n",
              "      <th>28</th>\n",
              "      <td>2015</td>\n",
              "      <td>Eliud Kipchoge</td>\n",
              "      <td>Male</td>\n",
              "      <td>Kenya</td>\n",
              "      <td>02:04:00</td>\n",
              "      <td>Berlin</td>\n",
              "    </tr>\n",
              "    <tr>\n",
              "      <th>461</th>\n",
              "      <td>2014</td>\n",
              "      <td>Eliud Kipchoge</td>\n",
              "      <td>Male</td>\n",
              "      <td>Kenya</td>\n",
              "      <td>02:04:11</td>\n",
              "      <td>Chicago</td>\n",
              "    </tr>\n",
              "    <tr>\n",
              "      <th>34</th>\n",
              "      <td>2012</td>\n",
              "      <td>Geoffrey Mutai</td>\n",
              "      <td>Male</td>\n",
              "      <td>Kenya</td>\n",
              "      <td>02:04:15</td>\n",
              "      <td>Berlin</td>\n",
              "    </tr>\n",
              "    <tr>\n",
              "      <th>379</th>\n",
              "      <td>2018</td>\n",
              "      <td>Eliud Kipchoge</td>\n",
              "      <td>Male</td>\n",
              "      <td>Kenya</td>\n",
              "      <td>02:04:17</td>\n",
              "      <td>London</td>\n",
              "    </tr>\n",
              "    <tr>\n",
              "      <th>44</th>\n",
              "      <td>2007</td>\n",
              "      <td>Haile Gebrselassie</td>\n",
              "      <td>Male</td>\n",
              "      <td>Ethiopia</td>\n",
              "      <td>02:04:26</td>\n",
              "      <td>Berlin</td>\n",
              "    </tr>\n",
              "    <tr>\n",
              "      <th>386</th>\n",
              "      <td>2014</td>\n",
              "      <td>Wilson Kipsang</td>\n",
              "      <td>Male</td>\n",
              "      <td>Kenya</td>\n",
              "      <td>02:04:29</td>\n",
              "      <td>London</td>\n",
              "    </tr>\n",
              "    <tr>\n",
              "      <th>465</th>\n",
              "      <td>2012</td>\n",
              "      <td>Tsegaye Kebede</td>\n",
              "      <td>Male</td>\n",
              "      <td>Ethiopia</td>\n",
              "      <td>02:04:38</td>\n",
              "      <td>Chicago</td>\n",
              "    </tr>\n",
              "    <tr>\n",
              "      <th>392</th>\n",
              "      <td>2011</td>\n",
              "      <td>Emmanuel Mutai</td>\n",
              "      <td>Male</td>\n",
              "      <td>Kenya</td>\n",
              "      <td>02:04:40</td>\n",
              "      <td>London</td>\n",
              "    </tr>\n",
              "    <tr>\n",
              "      <th>384</th>\n",
              "      <td>2015</td>\n",
              "      <td>Eliud Kipchoge</td>\n",
              "      <td>Male</td>\n",
              "      <td>Kenya</td>\n",
              "      <td>02:04:42</td>\n",
              "      <td>London</td>\n",
              "    </tr>\n",
              "    <tr>\n",
              "      <th>390</th>\n",
              "      <td>2012</td>\n",
              "      <td>Wilson Kipsang</td>\n",
              "      <td>Male</td>\n",
              "      <td>Kenya</td>\n",
              "      <td>02:04:44</td>\n",
              "      <td>London</td>\n",
              "    </tr>\n",
              "    <tr>\n",
              "      <th>52</th>\n",
              "      <td>2003</td>\n",
              "      <td>Paul Tergat</td>\n",
              "      <td>Male</td>\n",
              "      <td>Kenya</td>\n",
              "      <td>02:04:55</td>\n",
              "      <td>Berlin</td>\n",
              "    </tr>\n",
              "    <tr>\n",
              "      <th>297</th>\n",
              "      <td>2011</td>\n",
              "      <td>Geoffrey Mutai</td>\n",
              "      <td>Male</td>\n",
              "      <td>Kenya</td>\n",
              "      <td>02:05:06</td>\n",
              "      <td>NYC</td>\n",
              "    </tr>\n",
              "    <tr>\n",
              "      <th>38</th>\n",
              "      <td>2010</td>\n",
              "      <td>Patrick Musyoki</td>\n",
              "      <td>Male</td>\n",
              "      <td>Kenya</td>\n",
              "      <td>02:05:08</td>\n",
              "      <td>Berlin</td>\n",
              "    </tr>\n",
              "    <tr>\n",
              "      <th>396</th>\n",
              "      <td>2009</td>\n",
              "      <td>Samuel Wanjiru</td>\n",
              "      <td>Male</td>\n",
              "      <td>Kenya</td>\n",
              "      <td>02:05:10</td>\n",
              "      <td>London</td>\n",
              "    </tr>\n",
              "    <tr>\n",
              "      <th>398</th>\n",
              "      <td>2008</td>\n",
              "      <td>Martin Lel</td>\n",
              "      <td>Male</td>\n",
              "      <td>Kenya</td>\n",
              "      <td>02:05:15</td>\n",
              "      <td>London</td>\n",
              "    </tr>\n",
              "    <tr>\n",
              "      <th>394</th>\n",
              "      <td>2010</td>\n",
              "      <td>Tsegaye Kebede</td>\n",
              "      <td>Male</td>\n",
              "      <td>Ethiopia</td>\n",
              "      <td>02:05:19</td>\n",
              "      <td>London</td>\n",
              "    </tr>\n",
              "    <tr>\n",
              "      <th>0</th>\n",
              "      <td>2018</td>\n",
              "      <td>Dickson Chumba</td>\n",
              "      <td>Male</td>\n",
              "      <td>Kenya</td>\n",
              "      <td>02:05:30</td>\n",
              "      <td>Tokyo</td>\n",
              "    </tr>\n",
              "    <tr>\n",
              "      <th>467</th>\n",
              "      <td>2011</td>\n",
              "      <td>Moses Mosop</td>\n",
              "      <td>Male</td>\n",
              "      <td>Kenya</td>\n",
              "      <td>02:05:37</td>\n",
              "      <td>Chicago</td>\n",
              "    </tr>\n",
              "    <tr>\n",
              "      <th>410</th>\n",
              "      <td>2002</td>\n",
              "      <td>Khalid Khannouchi</td>\n",
              "      <td>Male</td>\n",
              "      <td>United States</td>\n",
              "      <td>02:05:38</td>\n",
              "      <td>London</td>\n",
              "    </tr>\n",
              "    <tr>\n",
              "      <th>471</th>\n",
              "      <td>2009</td>\n",
              "      <td>Samuel Wanjiru</td>\n",
              "      <td>Male</td>\n",
              "      <td>Kenya</td>\n",
              "      <td>02:05:41</td>\n",
              "      <td>Chicago</td>\n",
              "    </tr>\n",
              "  </tbody>\n",
              "</table>\n",
              "</div>"
            ],
            "text/plain": [
              "     year              winner gender        country      time marathon\n",
              "30   2014      Dennis Kimetto   Male          Kenya  02:02:57   Berlin\n",
              "127  2011      Geoffrey Mutai   Male          Kenya  02:03:02   Boston\n",
              "26   2016     Kenenisa Bekele   Male       Ethiopia  02:03:03   Berlin\n",
              "382  2016      Eliud Kipchoge   Male          Kenya  02:03:05   London\n",
              "32   2013      Wilson Kipsang   Male          Kenya  02:03:23   Berlin\n",
              "24   2017      Eliud Kipchoge   Male          Kenya  02:03:32   Berlin\n",
              "36   2011     Patrick Musyoki   Male          Kenya  02:03:38   Berlin\n",
              "463  2013      Dennis Kimetto   Male          Kenya  02:03:45  Chicago\n",
              "2    2017      Wilson Kipsang   Male          Kenya  02:03:58    Tokyo\n",
              "42   2008  Haile Gebrselassie   Male       Ethiopia  02:03:59   Berlin\n",
              "28   2015      Eliud Kipchoge   Male          Kenya  02:04:00   Berlin\n",
              "461  2014      Eliud Kipchoge   Male          Kenya  02:04:11  Chicago\n",
              "34   2012      Geoffrey Mutai   Male          Kenya  02:04:15   Berlin\n",
              "379  2018      Eliud Kipchoge   Male          Kenya  02:04:17   London\n",
              "44   2007  Haile Gebrselassie   Male       Ethiopia  02:04:26   Berlin\n",
              "386  2014      Wilson Kipsang   Male          Kenya  02:04:29   London\n",
              "465  2012      Tsegaye Kebede   Male       Ethiopia  02:04:38  Chicago\n",
              "392  2011      Emmanuel Mutai   Male          Kenya  02:04:40   London\n",
              "384  2015      Eliud Kipchoge   Male          Kenya  02:04:42   London\n",
              "390  2012      Wilson Kipsang   Male          Kenya  02:04:44   London\n",
              "52   2003         Paul Tergat   Male          Kenya  02:04:55   Berlin\n",
              "297  2011      Geoffrey Mutai   Male          Kenya  02:05:06      NYC\n",
              "38   2010     Patrick Musyoki   Male          Kenya  02:05:08   Berlin\n",
              "396  2009      Samuel Wanjiru   Male          Kenya  02:05:10   London\n",
              "398  2008          Martin Lel   Male          Kenya  02:05:15   London\n",
              "394  2010      Tsegaye Kebede   Male       Ethiopia  02:05:19   London\n",
              "0    2018      Dickson Chumba   Male          Kenya  02:05:30    Tokyo\n",
              "467  2011         Moses Mosop   Male          Kenya  02:05:37  Chicago\n",
              "410  2002   Khalid Khannouchi   Male  United States  02:05:38   London\n",
              "471  2009      Samuel Wanjiru   Male          Kenya  02:05:41  Chicago"
            ]
          },
          "metadata": {
            "tags": []
          },
          "execution_count": 131
        }
      ]
    },
    {
      "cell_type": "code",
      "metadata": {
        "id": "9VmLh2UYSpEK"
      },
      "source": [
        "top_fastest_runner = sort_time[\"winner\"].value_counts().index"
      ],
      "execution_count": 132,
      "outputs": []
    },
    {
      "cell_type": "code",
      "metadata": {
        "colab": {
          "base_uri": "https://localhost:8080/"
        },
        "id": "DGhSst7XSpFy",
        "outputId": "a1a12d74-527f-4f7d-8b1d-9733c3bc7ef6"
      },
      "source": [
        "top_fastest_runner"
      ],
      "execution_count": 136,
      "outputs": [
        {
          "output_type": "execute_result",
          "data": {
            "text/plain": [
              "Index(['Eliud Kipchoge', 'Wilson Kipsang', 'Geoffrey Mutai', 'Tsegaye Kebede',\n",
              "       'Dennis Kimetto', 'Samuel Wanjiru', 'Haile Gebrselassie',\n",
              "       'Patrick Musyoki', 'Paul Tergat', 'Emmanuel Mutai', 'Khalid Khannouchi',\n",
              "       'Moses Mosop', 'Martin Lel', 'Kenenisa Bekele', 'Dickson Chumba'],\n",
              "      dtype='object')"
            ]
          },
          "metadata": {
            "tags": []
          },
          "execution_count": 136
        }
      ]
    },
    {
      "cell_type": "code",
      "metadata": {
        "id": "B_-YDF63Vr30"
      },
      "source": [
        "country_of_fast_runners = sort_time[\"country\"].value_counts()"
      ],
      "execution_count": 139,
      "outputs": []
    },
    {
      "cell_type": "code",
      "metadata": {
        "colab": {
          "base_uri": "https://localhost:8080/",
          "height": 342
        },
        "id": "Y9s5ldHHVr5k",
        "outputId": "b3bec2f9-8b7d-4771-e4f8-f0436a7be5d9"
      },
      "source": [
        "sns.barplot(x=country_of_fast_runners.index,y=country_of_fast_runners).set_xticklabels(country_of_fast_runners.index,rotation=90)"
      ],
      "execution_count": 171,
      "outputs": [
        {
          "output_type": "execute_result",
          "data": {
            "text/plain": [
              "[Text(0, 0, 'Kenya'), Text(0, 0, 'Ethiopia'), Text(0, 0, 'United States')]"
            ]
          },
          "metadata": {
            "tags": []
          },
          "execution_count": 171
        },
        {
          "output_type": "display_data",
          "data": {
            "image/png": "[encoded data removed]",
            "text/plain": [
              "<Figure size 432x288 with 1 Axes>"
            ]
          },
          "metadata": {
            "tags": [],
            "needs_background": "light"
          }
        }
      ]
    }
  ]
}